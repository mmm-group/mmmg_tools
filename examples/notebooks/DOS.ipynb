{
 "cells": [
  {
   "cell_type": "code",
   "execution_count": null,
   "metadata": {},
   "outputs": [],
   "source": [
    "import numpy as np\n",
    "from collections import namedtuple\n",
    "from bokeh.io import output_notebook, show\n",
    "from bokeh.models import BoxSelectTool\n",
    "from bokeh.models.sources import ColumnDataSource\n",
    "from bokeh.plotting import figure\n",
    "from pymatgen.io.vasp.outputs import Vasprun\n",
    "from pymatgen.electronic_structure.core import Spin\n",
    "from mmmg_tools.objects import (\n",
    "    Wavefunction,\n",
    "    Charge,\n",
    "    Structure,\n",
    ")\n",
    "\n",
    "output_notebook()"
   ]
  },
  {
   "cell_type": "code",
   "execution_count": null,
   "metadata": {},
   "outputs": [],
   "source": [
    "vr = Vasprun('vasprun.xml', parse_potcar_file=False)"
   ]
  },
  {
   "cell_type": "code",
   "execution_count": null,
   "metadata": {},
   "outputs": [],
   "source": [
    "class range_get():\n",
    "    def __init__(self, emin, emax):\n",
    "        self.range_tuple = namedtuple('Energy_range','Emin Emax')\n",
    "        self.init = self.range_tuple(emin, emax)\n",
    "        self.range = self.range_tuple(emin, emax)\n",
    "    def update(self, emin, emax):\n",
    "        self.range = self.range_tuple(emin, emax)\n",
    "x = range_get(vr.tdos.energies[0] - vr.efermi, 0)\n",
    "\n",
    "def modify_doc(doc, x=x):\n",
    "    data = {spin.name: list(density * spin.value) for spin, density in vr.tdos.densities.items()}\n",
    "    data['energy'] = list(vr.tdos.energies.copy() - vr.efermi)\n",
    "\n",
    "    source = ColumnDataSource(data=data)\n",
    "        \n",
    "    plt = figure()\n",
    "    plt.add_tools(BoxSelectTool(dimensions=\"width\"))\n",
    "    plt.circle('energy', 'up', source=source, alpha=0, nonselection_alpha=0)\n",
    "    plt.line('energy', 'up', source=source, selection_color='red', nonselection_alpha=.6)\n",
    "    if vr.is_spin:\n",
    "        plt.line('energy', 'down', source=source, selection_color='red', nonselection_alpha=.6)\n",
    "    \n",
    "    def callback(attr, old, new, x=x):\n",
    "        if len(new) != 0:\n",
    "            i_min = min(new)\n",
    "            i_max = max(new)\n",
    "            x.update(source.data['energy'][i_min], source.data['energy'][i_max])\n",
    "        else:\n",
    "            x.update(x.init[0], x.init[1])\n",
    "    \n",
    "    source.selected.on_change('indices', callback)\n",
    "    \n",
    "    doc.add_root(plt)\n",
    "    \n",
    "show(modify_doc)"
   ]
  },
  {
   "cell_type": "markdown",
   "metadata": {},
   "source": [
    "### Create CHGCAR from selected energy range"
   ]
  },
  {
   "cell_type": "code",
   "execution_count": null,
   "metadata": {},
   "outputs": [],
   "source": [
    "structure = Structure.from_structure(vr.structures[-1])\n",
    "wave = Wavefunction.from_file('WAVECAR', structure=structure)"
   ]
  },
  {
   "cell_type": "code",
   "execution_count": null,
   "metadata": {},
   "outputs": [],
   "source": [
    "kweight = np.multiply(vr.actual_kpoints_weights, 1)\n",
    "charge = Charge.from_wav(wave, kweight, brange=x.range)\n",
    "print(charge.data['total'].sum() / (np.prod(charge.data['total'].shape)))"
   ]
  },
  {
   "cell_type": "code",
   "execution_count": null,
   "metadata": {},
   "outputs": [],
   "source": [
    "charge.write_file('CHGCAR')"
   ]
  }
 ],
 "metadata": {
  "kernelspec": {
   "display_name": "Python 3",
   "language": "python",
   "name": "python3"
  },
  "language_info": {
   "codemirror_mode": {
    "name": "ipython",
    "version": 3
   },
   "file_extension": ".py",
   "mimetype": "text/x-python",
   "name": "python",
   "nbconvert_exporter": "python",
   "pygments_lexer": "ipython3",
   "version": "3.7.3"
  }
 },
 "nbformat": 4,
 "nbformat_minor": 4
}
